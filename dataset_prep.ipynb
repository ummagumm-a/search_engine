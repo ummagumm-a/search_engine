{
 "cells": [
  {
   "cell_type": "code",
   "execution_count": 2,
   "id": "b81cbe12",
   "metadata": {},
   "outputs": [],
   "source": [
    "import numpy as np\n",
    "import pandas as pd\n",
    "import multiprocessing as mp"
   ]
  },
  {
   "cell_type": "code",
   "execution_count": 3,
   "id": "4a9b7c1c",
   "metadata": {},
   "outputs": [],
   "source": [
    "df = pd.read_csv(\n",
    "    'data/Medium_AggregatedData.csv', \n",
    "    usecols=['title', 'subTitle', 'text', 'recommends', 'language']\n",
    ")"
   ]
  },
  {
   "cell_type": "code",
   "execution_count": 4,
   "id": "1d73b8c0",
   "metadata": {},
   "outputs": [],
   "source": [
    "df = df[df['language'] == 'en'].drop(columns=['language'])"
   ]
  },
  {
   "cell_type": "code",
   "execution_count": 5,
   "id": "3baf54c2",
   "metadata": {},
   "outputs": [],
   "source": [
    "df = df.drop_duplicates(ignore_index=True)"
   ]
  },
  {
   "cell_type": "code",
   "execution_count": 8,
   "id": "e912042d",
   "metadata": {},
   "outputs": [],
   "source": [
    "df.to_csv('data/medium.csv', index=False)"
   ]
  }
 ],
 "metadata": {
  "kernelspec": {
   "display_name": "Python 3 (ipykernel)",
   "language": "python",
   "name": "python3"
  },
  "language_info": {
   "codemirror_mode": {
    "name": "ipython",
    "version": 3
   },
   "file_extension": ".py",
   "mimetype": "text/x-python",
   "name": "python",
   "nbconvert_exporter": "python",
   "pygments_lexer": "ipython3",
   "version": "3.10.1"
  }
 },
 "nbformat": 4,
 "nbformat_minor": 5
}
