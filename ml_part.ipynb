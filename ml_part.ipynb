{
 "cells": [
  {
   "cell_type": "code",
   "execution_count": 1,
   "id": "d60472d3",
   "metadata": {},
   "outputs": [],
   "source": [
    "import numpy as np\n",
    "import pandas as pd\n",
    "import multiprocessing as mp\n",
    "\n",
    "np.random.seed(0)"
   ]
  },
  {
   "cell_type": "code",
   "execution_count": 2,
   "id": "0983a05e",
   "metadata": {},
   "outputs": [],
   "source": [
    "df = pd.read_csv('data/medium.csv')\n",
    "prep_df = pd.read_csv('data/prep_df.csv').applymap(str)"
   ]
  },
  {
   "cell_type": "code",
   "execution_count": 3,
   "id": "60d97454",
   "metadata": {
    "scrolled": true
   },
   "outputs": [],
   "source": [
    "from sklearn.feature_extraction.text import TfidfVectorizer\n",
    "import scipy\n",
    "\n",
    "for_title = TfidfVectorizer(min_df=2)\n",
    "for_subTitle = TfidfVectorizer(min_df=3)\n",
    "for_text = TfidfVectorizer(min_df=5)\n",
    "\n",
    "tfidf_df = scipy.sparse.hstack([\n",
    "    for_title.fit_transform(prep_df['title']),\n",
    "    for_subTitle.fit_transform(prep_df['subTitle']),\n",
    "    for_text.fit_transform(prep_df['text']),\n",
    "]).tocsr()"
   ]
  },
  {
   "cell_type": "code",
   "execution_count": 4,
   "id": "05029c3f",
   "metadata": {},
   "outputs": [],
   "source": [
    "import pickle\n",
    "from pathlib import Path\n",
    "Path(\"models\").mkdir(exist_ok=True)\n",
    "\n",
    "def dump(model, in_str):\n",
    "    with open('models/' + in_str + '.pickle', 'wb') as handle:\n",
    "        pickle.dump(model, handle, protocol=pickle.HIGHEST_PROTOCOL)\n",
    "\n",
    "dump(for_title, 'for_title')\n",
    "dump(for_subTitle, 'for_subTitle')\n",
    "dump(for_text, 'for_text')"
   ]
  },
  {
   "cell_type": "code",
   "execution_count": 6,
   "id": "287ca9b7",
   "metadata": {},
   "outputs": [],
   "source": [
    "from encoders import text_to_vec\n",
    "\n",
    "def app_text_to_vec(X):\n",
    "    X = X.copy()\n",
    "    col_names = ['title', 'subTitle', 'text']\n",
    "    col_indexed = [[col + '_' + str(i) for i in range(300)] \n",
    "                   for col in col_names]\n",
    "\n",
    "    with mp.Pool(6) as pool:\n",
    "        dfs = []\n",
    "        for i in range(len(col_names)):\n",
    "            dfs.append(pd.DataFrame(\n",
    "                pool.map(text_to_vec, X[col_names[i]]), \n",
    "                index=X.index, \n",
    "                columns=col_indexed[i]\n",
    "            ))      \n",
    "       \n",
    "    return pd.concat(dfs, axis=1)"
   ]
  },
  {
   "cell_type": "code",
   "execution_count": 7,
   "id": "7b73fcff",
   "metadata": {
    "scrolled": true
   },
   "outputs": [],
   "source": [
    "w2v_df = app_text_to_vec(prep_df)"
   ]
  },
  {
   "cell_type": "code",
   "execution_count": 8,
   "id": "4315a88c",
   "metadata": {},
   "outputs": [],
   "source": [
    "from scipy.sparse import save_npz\n",
    "save_npz('data/tfidf_df.npz', tfidf_df)\n",
    "w2v_df.to_csv('data/w2v_df.csv', index=False)"
   ]
  }
 ],
 "metadata": {
  "kernelspec": {
   "display_name": "Python 3 (ipykernel)",
   "language": "python",
   "name": "python3"
  },
  "language_info": {
   "codemirror_mode": {
    "name": "ipython",
    "version": 3
   },
   "file_extension": ".py",
   "mimetype": "text/x-python",
   "name": "python",
   "nbconvert_exporter": "python",
   "pygments_lexer": "ipython3",
   "version": "3.10.1"
  }
 },
 "nbformat": 4,
 "nbformat_minor": 5
}
