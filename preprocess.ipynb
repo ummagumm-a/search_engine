{
 "cells": [
  {
   "cell_type": "code",
   "execution_count": 1,
   "id": "45f51941",
   "metadata": {},
   "outputs": [],
   "source": [
    "import pandas as pd\n",
    "import multiprocessing as mp"
   ]
  },
  {
   "cell_type": "code",
   "execution_count": 2,
   "id": "692e19df",
   "metadata": {},
   "outputs": [],
   "source": [
    "df = pd.read_csv('data/medium.csv')"
   ]
  },
  {
   "cell_type": "code",
   "execution_count": 3,
   "id": "4a54360b",
   "metadata": {},
   "outputs": [],
   "source": [
    "from preprocess_functions import text_preprocess"
   ]
  },
  {
   "cell_type": "code",
   "execution_count": 4,
   "id": "5e47e5fd",
   "metadata": {},
   "outputs": [],
   "source": [
    "def cols_prep(df):\n",
    "    prep_df = pd.DataFrame({}, index=df.index)\n",
    "    with mp.Pool(6) as pool:\n",
    "        for col in ['title', 'subTitle', 'text']:\n",
    "            prep_df[col] = pool.map(text_preprocess, df[col])\n",
    "            \n",
    "    return prep_df"
   ]
  },
  {
   "cell_type": "code",
   "execution_count": 5,
   "id": "0dc0f1ad",
   "metadata": {},
   "outputs": [],
   "source": [
    "# %%timeit -n 1 -r 1\n",
    "prep_df = cols_prep(df)"
   ]
  },
  {
   "cell_type": "code",
   "execution_count": 6,
   "id": "e50e4666",
   "metadata": {},
   "outputs": [],
   "source": [
    "prep_df.to_csv('data/prep_df.csv', index=False)"
   ]
  }
 ],
 "metadata": {
  "kernelspec": {
   "display_name": "Python 3 (ipykernel)",
   "language": "python",
   "name": "python3"
  },
  "language_info": {
   "codemirror_mode": {
    "name": "ipython",
    "version": 3
   },
   "file_extension": ".py",
   "mimetype": "text/x-python",
   "name": "python",
   "nbconvert_exporter": "python",
   "pygments_lexer": "ipython3",
   "version": "3.10.1"
  }
 },
 "nbformat": 4,
 "nbformat_minor": 5
}
